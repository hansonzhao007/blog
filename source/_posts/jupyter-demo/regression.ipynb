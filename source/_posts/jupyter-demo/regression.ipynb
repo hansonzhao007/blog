{
 "cells": [
  {
   "cell_type": "code",
   "execution_count": 59,
   "metadata": {},
   "outputs": [],
   "source": [
    "import quandl, math\n",
    "import numpy as np\n",
    "import pandas as pd\n",
    "from sklearn import preprocessing, cross_validation, svm\n",
    "from sklearn.linear_model import LinearRegression\n",
    "import matplotlib.pyplot as plt\n",
    "from matplotlib import style\n",
    "import datetime\n",
    "\n",
    "%matplotlib inline  \n",
    "\n",
    "df = quandl.get(\"WIKI/GOOGL\")\n",
    "df = df[['Adj. Open',  'Adj. High',  'Adj. Low',  'Adj. Close', 'Adj. Volume']]\n",
    "df['HL_PCT'] = (df['Adj. High'] - df['Adj. Low']) / df['Adj. Close'] * 100.0\n",
    "df['PCT_change'] = (df['Adj. Close'] - df['Adj. Open']) / df['Adj. Open'] * 100.0\n",
    "\n",
    "df = df[['Adj. Close', 'HL_PCT', 'PCT_change', 'Adj. Volume']]\n",
    "\n",
    "# We're saying we want to forecast out 1% of the entire length of the dataset. \n",
    "# Thus, if our data is 100 days of stock prices, we want to be able to predict \n",
    "# the price 1 day out into the future. Choose whatever you like. If you are just \n",
    "# trying to predict tomorrow's price, then you would just do 1 day out, and the \n",
    "# forecast would be just one day out. If you predict 10 days out, we can actually \n",
    "# generate a forcast for every day, for the next week and a half.\n",
    "forecast_col = 'Adj. Close'\n",
    "df.fillna(value=-99999, inplace=True)\n",
    "forecast_out = int(math.ceil(0.01 * len(df)))\n",
    "df['label'] = df[forecast_col].shift(-forecast_out)\n",
    "\n",
    "X = np.array(df.drop(['label'], 1))\n",
    "X = preprocessing.scale(X)\n",
    "X_lately = X[-forecast_out:]\n",
    "X = X[:-forecast_out]\n",
    "\n",
    "df.dropna(inplace=True)\n",
    "\n",
    "y = np.array(df['label'])\n"
   ]
  },
  {
   "cell_type": "code",
   "execution_count": 60,
   "metadata": {},
   "outputs": [
    {
     "name": "stdout",
     "output_type": "stream",
     "text": [
      "linear 0.9755987122311569\n",
      "poly 0.6122860904626185\n",
      "rbf 0.8218210974795157\n",
      "sigmoid 0.9008506274636741\n"
     ]
    }
   ],
   "source": [
    "X_train, X_test, y_train, y_test = cross_validation.train_test_split(X, y, test_size=0.2)\n",
    "\n",
    "for k in ['linear','poly','rbf','sigmoid']:\n",
    "    clf = svm.SVR(kernel=k)\n",
    "    clf.fit(X_train, y_train)\n",
    "    confidence = clf.score(X_test, y_test)\n",
    "    print(k,confidence)\n",
    "    \n"
   ]
  },
  {
   "cell_type": "code",
   "execution_count": 61,
   "metadata": {},
   "outputs": [
    {
     "name": "stdout",
     "output_type": "stream",
     "text": [
      "linear 0.9755987122311569\n"
     ]
    }
   ],
   "source": [
    "clf = svm.SVR(kernel='linear')\n",
    "clf.fit(X_train, y_train)\n",
    "confidence = clf.score(X_test, y_test)\n",
    "print('linear', confidence)\n",
    "forecast_set = clf.predict(X_lately)\n",
    "df['Forecast'] = np.nan\n"
   ]
  },
  {
   "cell_type": "code",
   "execution_count": 62,
   "metadata": {},
   "outputs": [
    {
     "data": {
      "text/html": [
       "<div>\n",
       "<style scoped>\n",
       "    .dataframe tbody tr th:only-of-type {\n",
       "        vertical-align: middle;\n",
       "    }\n",
       "\n",
       "    .dataframe tbody tr th {\n",
       "        vertical-align: top;\n",
       "    }\n",
       "\n",
       "    .dataframe thead th {\n",
       "        text-align: right;\n",
       "    }\n",
       "</style>\n",
       "<table border=\"1\" class=\"dataframe\">\n",
       "  <thead>\n",
       "    <tr style=\"text-align: right;\">\n",
       "      <th></th>\n",
       "      <th>Adj. Close</th>\n",
       "      <th>HL_PCT</th>\n",
       "      <th>PCT_change</th>\n",
       "      <th>Adj. Volume</th>\n",
       "      <th>label</th>\n",
       "      <th>Forecast</th>\n",
       "    </tr>\n",
       "    <tr>\n",
       "      <th>Date</th>\n",
       "      <th></th>\n",
       "      <th></th>\n",
       "      <th></th>\n",
       "      <th></th>\n",
       "      <th></th>\n",
       "      <th></th>\n",
       "    </tr>\n",
       "  </thead>\n",
       "  <tbody>\n",
       "    <tr>\n",
       "      <th>2018-01-30</th>\n",
       "      <td>1177.37</td>\n",
       "      <td>1.139829</td>\n",
       "      <td>-0.029718</td>\n",
       "      <td>1792602.0</td>\n",
       "      <td>1094.00</td>\n",
       "      <td>NaN</td>\n",
       "    </tr>\n",
       "    <tr>\n",
       "      <th>2018-01-31</th>\n",
       "      <td>1182.22</td>\n",
       "      <td>1.202822</td>\n",
       "      <td>-0.134312</td>\n",
       "      <td>1643877.0</td>\n",
       "      <td>1053.15</td>\n",
       "      <td>NaN</td>\n",
       "    </tr>\n",
       "    <tr>\n",
       "      <th>2018-02-01</th>\n",
       "      <td>1181.59</td>\n",
       "      <td>1.530988</td>\n",
       "      <td>0.476195</td>\n",
       "      <td>2774967.0</td>\n",
       "      <td>1026.55</td>\n",
       "      <td>NaN</td>\n",
       "    </tr>\n",
       "    <tr>\n",
       "      <th>2018-02-02</th>\n",
       "      <td>1119.20</td>\n",
       "      <td>1.798606</td>\n",
       "      <td>-0.729098</td>\n",
       "      <td>5798880.0</td>\n",
       "      <td>1054.09</td>\n",
       "      <td>NaN</td>\n",
       "    </tr>\n",
       "    <tr>\n",
       "      <th>2018-02-05</th>\n",
       "      <td>1068.76</td>\n",
       "      <td>5.450241</td>\n",
       "      <td>-2.893850</td>\n",
       "      <td>3742469.0</td>\n",
       "      <td>1006.94</td>\n",
       "      <td>NaN</td>\n",
       "    </tr>\n",
       "  </tbody>\n",
       "</table>\n",
       "</div>"
      ],
      "text/plain": [
       "            Adj. Close    HL_PCT  PCT_change  Adj. Volume    label  Forecast\n",
       "Date                                                                        \n",
       "2018-01-30     1177.37  1.139829   -0.029718    1792602.0  1094.00       NaN\n",
       "2018-01-31     1182.22  1.202822   -0.134312    1643877.0  1053.15       NaN\n",
       "2018-02-01     1181.59  1.530988    0.476195    2774967.0  1026.55       NaN\n",
       "2018-02-02     1119.20  1.798606   -0.729098    5798880.0  1054.09       NaN\n",
       "2018-02-05     1068.76  5.450241   -2.893850    3742469.0  1006.94       NaN"
      ]
     },
     "execution_count": 62,
     "metadata": {},
     "output_type": "execute_result"
    }
   ],
   "source": [
    "df.tail()"
   ]
  },
  {
   "cell_type": "code",
   "execution_count": 63,
   "metadata": {},
   "outputs": [
    {
     "data": {
      "text/html": [
       "<div>\n",
       "<style scoped>\n",
       "    .dataframe tbody tr th:only-of-type {\n",
       "        vertical-align: middle;\n",
       "    }\n",
       "\n",
       "    .dataframe tbody tr th {\n",
       "        vertical-align: top;\n",
       "    }\n",
       "\n",
       "    .dataframe thead th {\n",
       "        text-align: right;\n",
       "    }\n",
       "</style>\n",
       "<table border=\"1\" class=\"dataframe\">\n",
       "  <thead>\n",
       "    <tr style=\"text-align: right;\">\n",
       "      <th></th>\n",
       "      <th>Adj. Close</th>\n",
       "      <th>HL_PCT</th>\n",
       "      <th>PCT_change</th>\n",
       "      <th>Adj. Volume</th>\n",
       "      <th>label</th>\n",
       "      <th>Forecast</th>\n",
       "    </tr>\n",
       "    <tr>\n",
       "      <th>Date</th>\n",
       "      <th></th>\n",
       "      <th></th>\n",
       "      <th></th>\n",
       "      <th></th>\n",
       "      <th></th>\n",
       "      <th></th>\n",
       "    </tr>\n",
       "  </thead>\n",
       "  <tbody>\n",
       "    <tr>\n",
       "      <th>2018-03-07 18:00:00</th>\n",
       "      <td>NaN</td>\n",
       "      <td>NaN</td>\n",
       "      <td>NaN</td>\n",
       "      <td>NaN</td>\n",
       "      <td>NaN</td>\n",
       "      <td>1083.560615</td>\n",
       "    </tr>\n",
       "    <tr>\n",
       "      <th>2018-03-08 18:00:00</th>\n",
       "      <td>NaN</td>\n",
       "      <td>NaN</td>\n",
       "      <td>NaN</td>\n",
       "      <td>NaN</td>\n",
       "      <td>NaN</td>\n",
       "      <td>1041.829425</td>\n",
       "    </tr>\n",
       "    <tr>\n",
       "      <th>2018-03-09 18:00:00</th>\n",
       "      <td>NaN</td>\n",
       "      <td>NaN</td>\n",
       "      <td>NaN</td>\n",
       "      <td>NaN</td>\n",
       "      <td>NaN</td>\n",
       "      <td>1016.090224</td>\n",
       "    </tr>\n",
       "    <tr>\n",
       "      <th>2018-03-10 18:00:00</th>\n",
       "      <td>NaN</td>\n",
       "      <td>NaN</td>\n",
       "      <td>NaN</td>\n",
       "      <td>NaN</td>\n",
       "      <td>NaN</td>\n",
       "      <td>1042.192191</td>\n",
       "    </tr>\n",
       "    <tr>\n",
       "      <th>2018-03-11 19:00:00</th>\n",
       "      <td>NaN</td>\n",
       "      <td>NaN</td>\n",
       "      <td>NaN</td>\n",
       "      <td>NaN</td>\n",
       "      <td>NaN</td>\n",
       "      <td>994.472689</td>\n",
       "    </tr>\n",
       "  </tbody>\n",
       "</table>\n",
       "</div>"
      ],
      "text/plain": [
       "                     Adj. Close  HL_PCT  PCT_change  Adj. Volume  label  \\\n",
       "Date                                                                      \n",
       "2018-03-07 18:00:00         NaN     NaN         NaN          NaN    NaN   \n",
       "2018-03-08 18:00:00         NaN     NaN         NaN          NaN    NaN   \n",
       "2018-03-09 18:00:00         NaN     NaN         NaN          NaN    NaN   \n",
       "2018-03-10 18:00:00         NaN     NaN         NaN          NaN    NaN   \n",
       "2018-03-11 19:00:00         NaN     NaN         NaN          NaN    NaN   \n",
       "\n",
       "                        Forecast  \n",
       "Date                              \n",
       "2018-03-07 18:00:00  1083.560615  \n",
       "2018-03-08 18:00:00  1041.829425  \n",
       "2018-03-09 18:00:00  1016.090224  \n",
       "2018-03-10 18:00:00  1042.192191  \n",
       "2018-03-11 19:00:00   994.472689  "
      ]
     },
     "execution_count": 63,
     "metadata": {},
     "output_type": "execute_result"
    }
   ],
   "source": [
    "last_date = df.iloc[-1].name\n",
    "last_unix = last_date.timestamp()\n",
    "one_day = 86400\n",
    "next_unix = last_unix + one_day\n",
    "\n",
    "for i in forecast_set:\n",
    "    next_date = datetime.datetime.fromtimestamp(next_unix)\n",
    "    next_unix += 86400\n",
    "    df.loc[next_date] = [np.nan for _ in range(len(df.columns)-1)]+[i]\n",
    "    \n",
    "df.tail()\n"
   ]
  },
  {
   "cell_type": "code",
   "execution_count": 64,
   "metadata": {},
   "outputs": [
    {
     "data": {
      "image/png": "[encoded data removed]",
      "text/plain": [
       "<matplotlib.figure.Figure at 0x1a2912e668>"
      ]
     },
     "metadata": {},
     "output_type": "display_data"
    }
   ],
   "source": [
    "plt.figure(figsize=(16,5))\n",
    "df['Adj. Close'].plot()\n",
    "df['Forecast'].plot()\n",
    "plt.legend(loc=4)\n",
    "plt.xlabel('Date')\n",
    "plt.ylabel('Price')\n",
    "plt.show()"
   ]
  },
  {
   "cell_type": "code",
   "execution_count": null,
   "metadata": {},
   "outputs": [],
   "source": []
  }
 ],
 "metadata": {
  "kernelspec": {
   "display_name": "Python 3",
   "language": "python",
   "name": "python3"
  },
  "language_info": {
   "codemirror_mode": {
    "name": "ipython",
    "version": 3
   },
   "file_extension": ".py",
   "mimetype": "text/x-python",
   "name": "python",
   "nbconvert_exporter": "python",
   "pygments_lexer": "ipython3",
   "version": "3.5.4"
  }
 },
 "nbformat": 4,
 "nbformat_minor": 2
}
